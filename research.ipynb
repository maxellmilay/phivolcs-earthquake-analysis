{
 "cells": [
  {
   "cell_type": "markdown",
   "id": "480aa2d3",
   "metadata": {},
   "source": [
    "# Earthquake Modeling"
   ]
  },
  {
   "cell_type": "code",
   "execution_count": 2,
   "id": "714c2528",
   "metadata": {},
   "outputs": [
    {
     "data": {
      "text/html": [
       "<div>\n",
       "<style scoped>\n",
       "    .dataframe tbody tr th:only-of-type {\n",
       "        vertical-align: middle;\n",
       "    }\n",
       "\n",
       "    .dataframe tbody tr th {\n",
       "        vertical-align: top;\n",
       "    }\n",
       "\n",
       "    .dataframe thead th {\n",
       "        text-align: right;\n",
       "    }\n",
       "</style>\n",
       "<table border=\"1\" class=\"dataframe\">\n",
       "  <thead>\n",
       "    <tr style=\"text-align: right;\">\n",
       "      <th></th>\n",
       "      <th>datetime</th>\n",
       "      <th>latitude</th>\n",
       "      <th>longitude</th>\n",
       "      <th>depth</th>\n",
       "      <th>magnitude</th>\n",
       "      <th>location</th>\n",
       "    </tr>\n",
       "  </thead>\n",
       "  <tbody>\n",
       "    <tr>\n",
       "      <th>0</th>\n",
       "      <td>2025-10-05 22:59:00</td>\n",
       "      <td>9.41</td>\n",
       "      <td>126.33</td>\n",
       "      <td>17</td>\n",
       "      <td>1.8</td>\n",
       "      <td>021 km N 44Â° E of Cortes (Surigao Del Sur)</td>\n",
       "    </tr>\n",
       "    <tr>\n",
       "      <th>1</th>\n",
       "      <td>2025-10-05 22:57:00</td>\n",
       "      <td>11.15</td>\n",
       "      <td>123.93</td>\n",
       "      <td>8</td>\n",
       "      <td>2.0</td>\n",
       "      <td>012 km N 27Â° W of City Of Bogo (Cebu)</td>\n",
       "    </tr>\n",
       "    <tr>\n",
       "      <th>2</th>\n",
       "      <td>2025-10-05 22:55:00</td>\n",
       "      <td>7.52</td>\n",
       "      <td>126.87</td>\n",
       "      <td>25</td>\n",
       "      <td>2.4</td>\n",
       "      <td>034 km S 80Â° E of Baganga (Davao Oriental)</td>\n",
       "    </tr>\n",
       "    <tr>\n",
       "      <th>3</th>\n",
       "      <td>2025-10-05 22:36:00</td>\n",
       "      <td>9.27</td>\n",
       "      <td>126.55</td>\n",
       "      <td>10</td>\n",
       "      <td>3.9</td>\n",
       "      <td>039 km S 89Â° E of Cortes (Surigao Del Sur)</td>\n",
       "    </tr>\n",
       "    <tr>\n",
       "      <th>4</th>\n",
       "      <td>2025-10-05 22:28:00</td>\n",
       "      <td>11.16</td>\n",
       "      <td>123.95</td>\n",
       "      <td>5</td>\n",
       "      <td>2.4</td>\n",
       "      <td>012 km N 15Â° W of City Of Bogo (Cebu)</td>\n",
       "    </tr>\n",
       "  </tbody>\n",
       "</table>\n",
       "</div>"
      ],
      "text/plain": [
       "              datetime  latitude  longitude  depth  magnitude  \\\n",
       "0  2025-10-05 22:59:00      9.41     126.33     17        1.8   \n",
       "1  2025-10-05 22:57:00     11.15     123.93      8        2.0   \n",
       "2  2025-10-05 22:55:00      7.52     126.87     25        2.4   \n",
       "3  2025-10-05 22:36:00      9.27     126.55     10        3.9   \n",
       "4  2025-10-05 22:28:00     11.16     123.95      5        2.4   \n",
       "\n",
       "                                      location  \n",
       "0  021 km N 44Â° E of Cortes (Surigao Del Sur)  \n",
       "1       012 km N 27Â° W of City Of Bogo (Cebu)  \n",
       "2  034 km S 80Â° E of Baganga (Davao Oriental)  \n",
       "3  039 km S 89Â° E of Cortes (Surigao Del Sur)  \n",
       "4       012 km N 15Â° W of City Of Bogo (Cebu)  "
      ]
     },
     "execution_count": 2,
     "metadata": {},
     "output_type": "execute_result"
    }
   ],
   "source": [
    "import pandas as pd\n",
    "\n",
    "df = pd.read_csv(\"data/earthquake_data_20251005_231758.csv\")\n",
    "\n",
    "df.head()"
   ]
  }
 ],
 "metadata": {
  "kernelspec": {
   "display_name": "earthquake-prediction",
   "language": "python",
   "name": "python3"
  },
  "language_info": {
   "codemirror_mode": {
    "name": "ipython",
    "version": 3
   },
   "file_extension": ".py",
   "mimetype": "text/x-python",
   "name": "python",
   "nbconvert_exporter": "python",
   "pygments_lexer": "ipython3",
   "version": "3.12.0"
  }
 },
 "nbformat": 4,
 "nbformat_minor": 5
}
